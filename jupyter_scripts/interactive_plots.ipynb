{
 "cells": [
  {
   "cell_type": "markdown",
   "id": "81315fef",
   "metadata": {},
   "source": [
    "# interactive_plots"
   ]
  },
  {
   "cell_type": "markdown",
   "id": "73421148",
   "metadata": {},
   "source": [
    "**run** following commands before using jupyter notebook on current environment:\n",
    "```\n",
    "pip install ipywidgets\n",
    "jupyter nbextension enable --py widgetsnbextension\n",
    "```"
   ]
  },
  {
   "cell_type": "code",
   "execution_count": 1,
   "id": "dba2118f",
   "metadata": {},
   "outputs": [],
   "source": [
    "import numpy as np\n",
    "import matplotlib as mpl\n",
    "import matplotlib.pyplot as plt"
   ]
  },
  {
   "cell_type": "code",
   "execution_count": 2,
   "id": "e86b12ad",
   "metadata": {},
   "outputs": [],
   "source": [
    "# Set figure size and dpi for the demo\n",
    "plt.rcParams['figure.figsize'] = (6, 4)\n",
    "plt.rcParams['figure.dpi'] = 150"
   ]
  },
  {
   "cell_type": "code",
   "execution_count": 48,
   "id": "0000dce6",
   "metadata": {},
   "outputs": [],
   "source": [
    "from ipywidgets import interact\n",
    "import ipywidgets as widgets"
   ]
  },
  {
   "cell_type": "markdown",
   "id": "d49a2a4b",
   "metadata": {},
   "source": [
    "### `interact` widget example"
   ]
  },
  {
   "cell_type": "code",
   "execution_count": 18,
   "id": "8e7973d5",
   "metadata": {},
   "outputs": [],
   "source": [
    "def f(x):\n",
    "    \n",
    "    plt.plot(x * np.arange(10))\n",
    "    plt.ylim(-30, 30)"
   ]
  },
  {
   "cell_type": "code",
   "execution_count": 19,
   "id": "2f571a8c",
   "metadata": {},
   "outputs": [
    {
     "data": {
      "application/vnd.jupyter.widget-view+json": {
       "model_id": "d5c10e3cb26446cc8497c7ff567725f0",
       "version_major": 2,
       "version_minor": 0
      },
      "text/plain": [
       "interactive(children=(FloatSlider(value=0.0, description='x', max=3.0, min=-3.0, step=0.5), Output()), _dom_cl…"
      ]
     },
     "metadata": {},
     "output_type": "display_data"
    }
   ],
   "source": [
    "interact(f, x = (-3, 3, 0.5));"
   ]
  },
  {
   "cell_type": "markdown",
   "id": "f8772781",
   "metadata": {},
   "source": [
    "Boolean parameters and usage as *@decorator*"
   ]
  },
  {
   "cell_type": "code",
   "execution_count": 49,
   "id": "dfe7ee14",
   "metadata": {},
   "outputs": [
    {
     "data": {
      "application/vnd.jupyter.widget-view+json": {
       "model_id": "5373db3827704d27b3caa9866509b00c",
       "version_major": 2,
       "version_minor": 0
      },
      "text/plain": [
       "interactive(children=(Checkbox(value=False, description='violet'), Output()), _dom_classes=('widget-interact',…"
      ]
     },
     "metadata": {},
     "output_type": "display_data"
    }
   ],
   "source": [
    "@interact(violet = False)\n",
    "def f(violet):\n",
    "    \n",
    "    np.random.seed(42)\n",
    "    rands = np.random.rand(100)\n",
    "    \n",
    "    if violet:\n",
    "        plt.plot(rands, '#5a189a')\n",
    "    else:\n",
    "        plt.plot(rands, color = '#000000')"
   ]
  },
  {
   "cell_type": "markdown",
   "id": "d1fded7b",
   "metadata": {},
   "source": [
    "**fixed** values example:"
   ]
  },
  {
   "cell_type": "code",
   "execution_count": 47,
   "id": "38e9c319",
   "metadata": {},
   "outputs": [
    {
     "data": {
      "application/vnd.jupyter.widget-view+json": {
       "model_id": "c7452e8f5f8e43b6a512e9b1d43a29cc",
       "version_major": 2,
       "version_minor": 0
      },
      "text/plain": [
       "interactive(children=(FloatSlider(value=0.0, description='a', max=1.0, min=-1.0), Output()), _dom_classes=('wi…"
      ]
     },
     "metadata": {},
     "output_type": "display_data"
    }
   ],
   "source": [
    "from ipywidgets import fixed\n",
    "\n",
    "@interact(a = (-1, 1, 0.1), b = fixed(2))\n",
    "def f(a, b):\n",
    "    \n",
    "    plt.plot(a * np.power(np.arange(10), b))\n",
    "    plt.title('Power Law: $x = ay^b$')"
   ]
  },
  {
   "cell_type": "markdown",
   "id": "15449f20",
   "metadata": {},
   "source": [
    "**dropdowns** example:"
   ]
  },
  {
   "cell_type": "code",
   "execution_count": 51,
   "id": "977022a7",
   "metadata": {},
   "outputs": [
    {
     "data": {
      "application/vnd.jupyter.widget-view+json": {
       "model_id": "bc75d02d191940839101cb1118630e5d",
       "version_major": 2,
       "version_minor": 0
      },
      "text/plain": [
       "interactive(children=(Dropdown(description='color', options={'black': '#000000', 'violet': '#5a189a'}, value='…"
      ]
     },
     "metadata": {},
     "output_type": "display_data"
    }
   ],
   "source": [
    "def f(color):\n",
    "    \n",
    "    plt.plot(np.power(np.arange(10), 5), color = color)\n",
    "    plt.title('Power Law: $x = ay^b$')\n",
    "    \n",
    "colors = {'black': '#000000', 'violet': '#5a189a'} # aslo works with lists!\n",
    "interact(f, color = colors);"
   ]
  },
  {
   "cell_type": "code",
   "execution_count": null,
   "id": "d862e7f4",
   "metadata": {},
   "outputs": [],
   "source": []
  }
 ],
 "metadata": {
  "kernelspec": {
   "display_name": "Python 3 (ipykernel)",
   "language": "python",
   "name": "python3"
  },
  "language_info": {
   "codemirror_mode": {
    "name": "ipython",
    "version": 3
   },
   "file_extension": ".py",
   "mimetype": "text/x-python",
   "name": "python",
   "nbconvert_exporter": "python",
   "pygments_lexer": "ipython3",
   "version": "3.9.6"
  }
 },
 "nbformat": 4,
 "nbformat_minor": 5
}

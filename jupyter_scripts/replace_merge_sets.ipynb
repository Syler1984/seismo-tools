{
 "cells": [
  {
   "cell_type": "code",
   "execution_count": 20,
   "id": "acaea489",
   "metadata": {},
   "outputs": [],
   "source": [
    "import h5py as h5\n",
    "import numpy as np"
   ]
  },
  {
   "cell_type": "code",
   "execution_count": 2,
   "id": "969f081a",
   "metadata": {},
   "outputs": [],
   "source": [
    "# Modifying sys.path to be able to load project packages\n",
    "import sys\n",
    "sys.path.append('../')\n",
    "\n",
    "# Load project packages\n",
    "from utils.h5_tools import write_batch"
   ]
  },
  {
   "cell_type": "code",
   "execution_count": 13,
   "id": "6baf8a93",
   "metadata": {},
   "outputs": [],
   "source": [
    "path_1 = 'C:/data/datasets/sh_bh_datasets/2014_2019_global_norm_bh_sh.h5'\n",
    "path_2 = 'C:/data/false_positives/data_converted.h5'"
   ]
  },
  {
   "cell_type": "code",
   "execution_count": 39,
   "id": "3aa9ec32",
   "metadata": {},
   "outputs": [],
   "source": [
    "# label: maximum data to replace\n",
    "max_merge_ratio = {0: 0., 1: 0., 2: 0.5}"
   ]
  },
  {
   "cell_type": "code",
   "execution_count": 15,
   "id": "35efe900",
   "metadata": {},
   "outputs": [],
   "source": [
    "save_path = 'C:/data/false_positives/2014_2019_with_false_positives.h5'"
   ]
  },
  {
   "cell_type": "code",
   "execution_count": 16,
   "id": "4aa0d811",
   "metadata": {},
   "outputs": [],
   "source": [
    "d_set_1 = h5.File(path_1, 'r')\n",
    "d_set_2 = h5.File(path_2, 'r')"
   ]
  },
  {
   "cell_type": "code",
   "execution_count": 17,
   "id": "40466888",
   "metadata": {},
   "outputs": [
    {
     "data": {
      "text/plain": [
       "(<KeysViewHDF5 ['ID', 'X', 'Y']>, <KeysViewHDF5 ['X', 'Y', 'Z']>)"
      ]
     },
     "execution_count": 17,
     "metadata": {},
     "output_type": "execute_result"
    }
   ],
   "source": [
    "d_set_1.keys(), d_set_2.keys()"
   ]
  },
  {
   "cell_type": "code",
   "execution_count": 18,
   "id": "195da918",
   "metadata": {},
   "outputs": [],
   "source": [
    "# set_2 key: set_2 key\n",
    "keys_transistion_2_1 = {'X': 'X', 'Y': 'Y', 'Z': 'ID'}\n",
    "\n",
    "# label key for set_2\n",
    "label_key_2 = 'Y'"
   ]
  },
  {
   "cell_type": "code",
   "execution_count": 59,
   "id": "e26d00c7",
   "metadata": {},
   "outputs": [],
   "source": [
    "data_1 = {}\n",
    "data_2 = {}\n",
    "\n",
    "for key_2, key_1 in keys_transistion_2_1.items():\n",
    "    \n",
    "    data_1[key_1] = np.array(d_set_1[key_1])\n",
    "    data_2[key_2] = np.array(d_set_2[key_2])"
   ]
  },
  {
   "cell_type": "code",
   "execution_count": 60,
   "id": "d8af7132",
   "metadata": {},
   "outputs": [],
   "source": [
    "labels_1 = data_1[keys_transistion_2_1[label_key_2]]\n",
    "labels_2 = data_2[label_key_2]"
   ]
  },
  {
   "cell_type": "code",
   "execution_count": 61,
   "id": "3eb8b629",
   "metadata": {},
   "outputs": [],
   "source": [
    "# Label count and merge data count\n",
    "label_count = {}\n",
    "max_merge_values = {}\n",
    "\n",
    "for label, ratio in max_merge_ratio.items():\n",
    "    \n",
    "    count = (labels_1 == label).sum()\n",
    "    count_2 = (labels_2 == label).sum()\n",
    "    \n",
    "    max_merge = min(int(count * ratio), count_2)\n",
    "    \n",
    "    label_count[label] = count\n",
    "    max_merge_values[label] = max_merge"
   ]
  },
  {
   "cell_type": "code",
   "execution_count": 62,
   "id": "e032e76e",
   "metadata": {},
   "outputs": [
    {
     "data": {
      "text/plain": [
       "({0: 2630, 1: 3185, 2: 2630}, {0: 0, 1: 0, 2: 1315})"
      ]
     },
     "execution_count": 62,
     "metadata": {},
     "output_type": "execute_result"
    }
   ],
   "source": [
    "label_count, max_merge_values"
   ]
  },
  {
   "cell_type": "code",
   "execution_count": 50,
   "id": "4b8b9aa6",
   "metadata": {},
   "outputs": [],
   "source": [
    "def shuffle_in_unison(*arrays):\n",
    "    \n",
    "    assert len(set([arr.shape[0] for arr in arrays])) == 1\n",
    "    \n",
    "    shuffled = [np.empty(arr.shape, dtype = arr.dtype) for arr in arrays]\n",
    "    \n",
    "    permutation = np.random.permutation(shuffled[0].shape[0])\n",
    "    \n",
    "    for old_index, new_index in enumerate(permutation):\n",
    "        for arr_shufled, arr in zip(shuffled, arrays):\n",
    "            arr_shufled[new_index] = arr[old_index]\n",
    "        \n",
    "    return shuffled"
   ]
  },
  {
   "cell_type": "code",
   "execution_count": 65,
   "id": "78c42e06",
   "metadata": {},
   "outputs": [],
   "source": [
    "def shuffle_set(set_dictionary):\n",
    "    \n",
    "    labels = []\n",
    "    data = []\n",
    "    \n",
    "    for l, d in set_dictionary.items():\n",
    "        labels.append(l)\n",
    "        data.append(d)\n",
    "        \n",
    "    data = shuffle_in_unison(*data)\n",
    "    \n",
    "    s_set_dictionary = {}\n",
    "    for l, d in zip(labels, data):\n",
    "        s_set_dictionary[l] = d\n",
    "        \n",
    "    return s_set_dictionary"
   ]
  },
  {
   "cell_type": "code",
   "execution_count": 66,
   "id": "3c7bea44",
   "metadata": {},
   "outputs": [],
   "source": [
    "data_1 = shuffle_set(data_1)\n",
    "data_2 = shuffle_set(data_2)"
   ]
  },
  {
   "cell_type": "code",
   "execution_count": 69,
   "id": "0129027e",
   "metadata": {},
   "outputs": [
    {
     "data": {
      "text/plain": [
       "{0: 0, 1: 0, 2: 1315}"
      ]
     },
     "execution_count": 69,
     "metadata": {},
     "output_type": "execute_result"
    }
   ],
   "source": [
    "max_merge_values"
   ]
  },
  {
   "cell_type": "code",
   "execution_count": 104,
   "id": "616b2a57",
   "metadata": {},
   "outputs": [],
   "source": [
    "# Merge\n",
    "labels_1 = data_1[keys_transistion_2_1[label_key_2]]\n",
    "labels_2 = data_2[label_key_2]\n",
    "\n",
    "length = labels_1.shape[0]\n",
    "\n",
    "for label, n_merge in max_merge_values.items():\n",
    "    \n",
    "    if not n_merge:\n",
    "        continue\n",
    "        \n",
    "    count = 0\n",
    "    for i in range(length):\n",
    "        \n",
    "        if count == n_merge:\n",
    "            break\n",
    "            \n",
    "        if labels_1[i] != label:\n",
    "            continue\n",
    "            \n",
    "        for key_2, key_1 in keys_transistion_2_1.items():\n",
    "            \n",
    "            data_1[key_1][i] = data_2[key_2][i]\n",
    "            \n",
    "        count += 1"
   ]
  },
  {
   "cell_type": "code",
   "execution_count": 107,
   "id": "116c413f",
   "metadata": {},
   "outputs": [
    {
     "data": {
      "text/plain": [
       "'C:/data/false_positives/2014_2019_with_false_positives.h5'"
      ]
     },
     "execution_count": 107,
     "metadata": {},
     "output_type": "execute_result"
    }
   ],
   "source": [
    "# Save dataset\n",
    "save_path "
   ]
  },
  {
   "cell_type": "code",
   "execution_count": 109,
   "id": "290dc501",
   "metadata": {},
   "outputs": [],
   "source": [
    "string_keys = ['Z', 'ID']"
   ]
  },
  {
   "cell_type": "code",
   "execution_count": 118,
   "id": "ca0b07e3",
   "metadata": {},
   "outputs": [],
   "source": [
    "for key, data in data_1.items():\n",
    "    \n",
    "    if key in string_keys:\n",
    "        write_batch(save_path, key, data, string = True)\n",
    "    else:\n",
    "        write_batch(save_path, key, data)"
   ]
  },
  {
   "cell_type": "markdown",
   "id": "4ea6a883",
   "metadata": {},
   "source": [
    "## Check saved set"
   ]
  },
  {
   "cell_type": "code",
   "execution_count": 119,
   "id": "a7771dcf",
   "metadata": {},
   "outputs": [],
   "source": [
    "import matplotlib.pyplot as plt"
   ]
  },
  {
   "cell_type": "code",
   "execution_count": 120,
   "id": "a42bd769",
   "metadata": {},
   "outputs": [],
   "source": [
    "f = h5.File(save_path, 'r')"
   ]
  },
  {
   "cell_type": "code",
   "execution_count": 121,
   "id": "cdbe84dc",
   "metadata": {},
   "outputs": [
    {
     "data": {
      "text/plain": [
       "<KeysViewHDF5 ['ID', 'X', 'Y']>"
      ]
     },
     "execution_count": 121,
     "metadata": {},
     "output_type": "execute_result"
    }
   ],
   "source": [
    "f.keys()"
   ]
  },
  {
   "cell_type": "code",
   "execution_count": 122,
   "id": "5fe83fb5",
   "metadata": {},
   "outputs": [
    {
     "data": {
      "text/plain": [
       "<HDF5 dataset \"X\": shape (8445, 400, 3), type \"<f8\">"
      ]
     },
     "execution_count": 122,
     "metadata": {},
     "output_type": "execute_result"
    }
   ],
   "source": [
    "f['X']"
   ]
  },
  {
   "cell_type": "code",
   "execution_count": 126,
   "id": "6d8d0532",
   "metadata": {},
   "outputs": [
    {
     "data": {
      "text/plain": [
       "(array([0., 0., 2., 2., 1., 1., 0., 1., 0., 0., 2., 1.]),\n",
       " array(['20160904171245_l10_sARGI', '20170303075954_l8_sA759',\n",
       "        'false_positive', 'false_positive', '20180621153307_l16_sARGI',\n",
       "        '20191223100221_l17_sARGI1', '20140701175226_l10_sARGI',\n",
       "        '20190926004233_l17_sVAL1', '20170210095100_l18_sNGLK',\n",
       "        '20160816030014_l17_sARGI', 'false_positive',\n",
       "        '20150506184627_l16_sNYSH'], dtype=object))"
      ]
     },
     "execution_count": 126,
     "metadata": {},
     "output_type": "execute_result"
    }
   ],
   "source": [
    "f['Y'][:12], f['ID'][:12]"
   ]
  },
  {
   "cell_type": "code",
   "execution_count": null,
   "id": "3194a53e",
   "metadata": {},
   "outputs": [],
   "source": []
  }
 ],
 "metadata": {
  "kernelspec": {
   "display_name": "Python 3",
   "language": "python",
   "name": "python3"
  },
  "language_info": {
   "codemirror_mode": {
    "name": "ipython",
    "version": 3
   },
   "file_extension": ".py",
   "mimetype": "text/x-python",
   "name": "python",
   "nbconvert_exporter": "python",
   "pygments_lexer": "ipython3",
   "version": "3.8.8"
  }
 },
 "nbformat": 4,
 "nbformat_minor": 5
}

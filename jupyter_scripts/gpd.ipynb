{
 "cells": [
  {
   "cell_type": "markdown",
   "id": "f0b88f06",
   "metadata": {},
   "source": [
    "# gpd\n",
    "\n",
    "This notebook includes [GPD](https://github.com/interseismic/generalized-phase-detection) definition, testing and training code."
   ]
  },
  {
   "cell_type": "markdown",
   "id": "fba5e1dc",
   "metadata": {},
   "source": [
    "## Model Definition"
   ]
  },
  {
   "cell_type": "code",
   "execution_count": 3,
   "id": "2d98c8ad",
   "metadata": {},
   "outputs": [],
   "source": [
    "from tensorflow import keras\n",
    "from tensorflow.keras import layers"
   ]
  },
  {
   "cell_type": "code",
   "execution_count": 4,
   "id": "38c93d09",
   "metadata": {},
   "outputs": [],
   "source": [
    "def gpd(n_samples = 400, n_channels = 3, n_classes = 3, flatten = True):\n",
    "    \n",
    "    inputs = layers.Input(shape=(n_samples, n_channels))\n",
    "    \n",
    "    # CNN\n",
    "    n_filters = [32, 64, 128, 256]\n",
    "    s_kernels = [21, 15, 11, 9]\n",
    "\n",
    "    x = inputs\n",
    "    for n_filter, s_kernel in zip(n_filters, s_kernels):\n",
    "\n",
    "      x = layers.Conv1D(filters = n_filter, kernel_size = s_kernel, padding = 'same', activation = None)(x)\n",
    "      x = layers.MaxPooling1D()(x)\n",
    "      x = layers.Activation('relu')(x)\n",
    "      x = layers.BatchNormalization()(x)\n",
    "    \n",
    "    # Concatenate to a single vector\n",
    "    if flatten:\n",
    "        x = layers.Flatten()(x)\n",
    "    else:\n",
    "        x = layers.GlobalAveragePooling1D()(x)\n",
    "    \n",
    "    # FCNN\n",
    "    for _ in range(2):\n",
    "      x = layers.Dense(200, activation = None)(x)\n",
    "      x = layers.Activation('relu')(x)\n",
    "      x = layers.BatchNormalization()(x)\n",
    "    \n",
    "    outputs = layers.Dense(n_classes, activation = 'softmax')(x)\n",
    "    \n",
    "    return keras.Model(inputs, outputs)"
   ]
  },
  {
   "cell_type": "markdown",
   "id": "7be27656",
   "metadata": {},
   "source": [
    "## Load Model"
   ]
  },
  {
   "cell_type": "code",
   "execution_count": 5,
   "id": "5d672634",
   "metadata": {},
   "outputs": [
    {
     "name": "stdout",
     "output_type": "stream",
     "text": [
      "Model: \"model\"\n",
      "_________________________________________________________________\n",
      "Layer (type)                 Output Shape              Param #   \n",
      "=================================================================\n",
      "input_1 (InputLayer)         [(None, 400, 3)]          0         \n",
      "_________________________________________________________________\n",
      "conv1d (Conv1D)              (None, 400, 32)           2048      \n",
      "_________________________________________________________________\n",
      "max_pooling1d (MaxPooling1D) (None, 200, 32)           0         \n",
      "_________________________________________________________________\n",
      "activation (Activation)      (None, 200, 32)           0         \n",
      "_________________________________________________________________\n",
      "batch_normalization (BatchNo (None, 200, 32)           128       \n",
      "_________________________________________________________________\n",
      "conv1d_1 (Conv1D)            (None, 200, 64)           30784     \n",
      "_________________________________________________________________\n",
      "max_pooling1d_1 (MaxPooling1 (None, 100, 64)           0         \n",
      "_________________________________________________________________\n",
      "activation_1 (Activation)    (None, 100, 64)           0         \n",
      "_________________________________________________________________\n",
      "batch_normalization_1 (Batch (None, 100, 64)           256       \n",
      "_________________________________________________________________\n",
      "conv1d_2 (Conv1D)            (None, 100, 128)          90240     \n",
      "_________________________________________________________________\n",
      "max_pooling1d_2 (MaxPooling1 (None, 50, 128)           0         \n",
      "_________________________________________________________________\n",
      "activation_2 (Activation)    (None, 50, 128)           0         \n",
      "_________________________________________________________________\n",
      "batch_normalization_2 (Batch (None, 50, 128)           512       \n",
      "_________________________________________________________________\n",
      "conv1d_3 (Conv1D)            (None, 50, 256)           295168    \n",
      "_________________________________________________________________\n",
      "max_pooling1d_3 (MaxPooling1 (None, 25, 256)           0         \n",
      "_________________________________________________________________\n",
      "activation_3 (Activation)    (None, 25, 256)           0         \n",
      "_________________________________________________________________\n",
      "batch_normalization_3 (Batch (None, 25, 256)           1024      \n",
      "_________________________________________________________________\n",
      "flatten (Flatten)            (None, 6400)              0         \n",
      "_________________________________________________________________\n",
      "dense (Dense)                (None, 200)               1280200   \n",
      "_________________________________________________________________\n",
      "activation_4 (Activation)    (None, 200)               0         \n",
      "_________________________________________________________________\n",
      "batch_normalization_4 (Batch (None, 200)               800       \n",
      "_________________________________________________________________\n",
      "dense_1 (Dense)              (None, 200)               40200     \n",
      "_________________________________________________________________\n",
      "activation_5 (Activation)    (None, 200)               0         \n",
      "_________________________________________________________________\n",
      "batch_normalization_5 (Batch (None, 200)               800       \n",
      "_________________________________________________________________\n",
      "dense_2 (Dense)              (None, 3)                 603       \n",
      "=================================================================\n",
      "Total params: 1,742,763\n",
      "Trainable params: 1,741,003\n",
      "Non-trainable params: 1,760\n",
      "_________________________________________________________________\n"
     ]
    }
   ],
   "source": [
    "model = gpd()\n",
    "\n",
    "model.compile(\n",
    "    optimizer = keras.optimizers.Adam(),\n",
    "    loss = keras.losses.SparseCategoricalCrossentropy(),\n",
    "    metrics = [keras.metrics.SparseCategoricalAccuracy()]\n",
    ")\n",
    "\n",
    "model.load_weights('C:/data/weights/w_gpd_scsn_2000_2017.h5')\n",
    "\n",
    "model.summary()"
   ]
  },
  {
   "cell_type": "markdown",
   "id": "60e8941a",
   "metadata": {},
   "source": [
    "## Test Data"
   ]
  },
  {
   "cell_type": "code",
   "execution_count": 6,
   "id": "24f30533",
   "metadata": {},
   "outputs": [],
   "source": [
    "# Modifying sys.path to be able to load project packages\n",
    "import sys\n",
    "sys.path.append('../')"
   ]
  },
  {
   "cell_type": "code",
   "execution_count": 7,
   "id": "8f2b0450",
   "metadata": {},
   "outputs": [],
   "source": [
    "from h5_generator import train_test_split as tts"
   ]
  },
  {
   "cell_type": "code",
   "execution_count": 31,
   "id": "ca54b7e3",
   "metadata": {},
   "outputs": [],
   "source": [
    "_, X_test = tts('C:/data/datasets/sh_bh_datasets/2014_2021_global_norm_sh_bh.h5', \n",
    "                batch_size = 100, \n",
    "                shuffle = False, \n",
    "                test_size = 1.)"
   ]
  },
  {
   "cell_type": "code",
   "execution_count": 32,
   "id": "297e263e",
   "metadata": {},
   "outputs": [
    {
     "name": "stdout",
     "output_type": "stream",
     "text": [
      "99/99 [==============================] - 3s 32ms/step - loss: 1.3740 - sparse_categorical_accuracy: 0.8885\n"
     ]
    },
    {
     "data": {
      "text/plain": [
       "'loss = 1.3739680051803589; sparse_categorical_accuracy = 0.8884705305099487; '"
      ]
     },
     "execution_count": 32,
     "metadata": {},
     "output_type": "execute_result"
    }
   ],
   "source": [
    "results = model.evaluate(X_test)\n",
    "\n",
    "string = ''\n",
    "for metric, value in zip(model.metrics_names, results):\n",
    "    string += f'{metric} = {value}; '\n",
    "    \n",
    "string"
   ]
  },
  {
   "cell_type": "code",
   "execution_count": null,
   "id": "8326e78e",
   "metadata": {},
   "outputs": [],
   "source": []
  }
 ],
 "metadata": {
  "kernelspec": {
   "display_name": "Python 3",
   "language": "python",
   "name": "python3"
  },
  "language_info": {
   "codemirror_mode": {
    "name": "ipython",
    "version": 3
   },
   "file_extension": ".py",
   "mimetype": "text/x-python",
   "name": "python",
   "nbconvert_exporter": "python",
   "pygments_lexer": "ipython3",
   "version": "3.8.8"
  }
 },
 "nbformat": 4,
 "nbformat_minor": 5
}

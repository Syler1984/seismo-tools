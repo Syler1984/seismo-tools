{
 "cells": [
  {
   "cell_type": "markdown",
   "id": "ff03d2e8",
   "metadata": {},
   "source": [
    "# check_mat_waveform\n",
    "\n",
    "This script opens a waveform file in .mat (matlab format), prints its stats and plots the waveform."
   ]
  },
  {
   "cell_type": "code",
   "execution_count": 109,
   "id": "89e027c7",
   "metadata": {},
   "outputs": [],
   "source": [
    "import scipy.io"
   ]
  },
  {
   "cell_type": "code",
   "execution_count": 2,
   "id": "ebdf1c20",
   "metadata": {},
   "outputs": [],
   "source": [
    "path = 'C:/data/datasets/data_for_ML/events_data/2min_№0_N_11.mat'"
   ]
  },
  {
   "cell_type": "code",
   "execution_count": 3,
   "id": "05fc014b",
   "metadata": {},
   "outputs": [],
   "source": [
    "stream = scipy.io.loadmat(path)"
   ]
  },
  {
   "cell_type": "code",
   "execution_count": 4,
   "id": "92eb1241",
   "metadata": {},
   "outputs": [
    {
     "data": {
      "text/plain": [
       "{'__header__': b'MATLAB 5.0 MAT-file Platform: nt, Created on: Tue May 25 23:46:51 2021',\n",
       " '__version__': '1.0',\n",
       " '__globals__': [],\n",
       " 'file_name': array(['N_11.mat'], dtype='<U8'),\n",
       " 'minute_number': array([[2]]),\n",
       " 'setup_number': array([[0]]),\n",
       " 'data_record': array([[-260.06659047, -246.61499429, -231.80478476, ..., -210.96605333,\n",
       "         -201.65721143, -201.61564952]]),\n",
       " 'time_in': array([[36.0616, 57.777 ]]),\n",
       " 'type': array([[2]])}"
      ]
     },
     "execution_count": 4,
     "metadata": {},
     "output_type": "execute_result"
    }
   ],
   "source": [
    "stream"
   ]
  },
  {
   "cell_type": "code",
   "execution_count": 104,
   "id": "b1a38271",
   "metadata": {},
   "outputs": [
    {
     "data": {
      "text/plain": [
       "(21894, 25796)"
      ]
     },
     "execution_count": 104,
     "metadata": {},
     "output_type": "execute_result"
    }
   ],
   "source": [
    "minute = stream['minute_number'][0][0]\n",
    "length = len(stream['data_record'][0])\n",
    "\n",
    "seconds_in = [x + minute*60. for x in stream['time_in'][0]]\n",
    "\n",
    "plot_length = 70 * 60  # seconds\n",
    "dt = len(stream['data_record'][0]) / (plot_length)\n",
    "\n",
    "positions = [int(x*dt) for x in seconds_in]\n",
    "\n",
    "rad = 400\n",
    "\n",
    "start = positions[0] - rad\n",
    "end = positions[-1] + rad\n",
    "\n",
    "start, end"
   ]
  },
  {
   "cell_type": "code",
   "execution_count": 105,
   "id": "5aa778ca",
   "metadata": {},
   "outputs": [
    {
     "data": {
      "image/png": "[encoded data removed]",
      "text/plain": [
       "<Figure size 432x288 with 1 Axes>"
      ]
     },
     "metadata": {
      "needs_background": "light"
     },
     "output_type": "display_data"
    }
   ],
   "source": [
    "import matplotlib.pyplot as plt\n",
    "\n",
    "plt.plot(stream['data_record'][0][start:end])\n",
    "for pos in positions:\n",
    "    plt.axvline(x=pos-start, color='red')"
   ]
  },
  {
   "cell_type": "code",
   "execution_count": 106,
   "id": "0bea1451",
   "metadata": {},
   "outputs": [
    {
     "name": "stdout",
     "output_type": "stream",
     "text": [
      "seconds_id:  [156.0616, 177.777]\n",
      "dt:  142.85714285714286\n",
      "positions:  [22294, 25396]\n",
      "start: 21894, end: 25796\n"
     ]
    }
   ],
   "source": [
    "print('seconds_id: ', seconds_in)\n",
    "print('dt: ', dt)\n",
    "print('positions: ', positions)\n",
    "print(f'start: {start}, end: {end}')"
   ]
  },
  {
   "cell_type": "code",
   "execution_count": null,
   "id": "82ef3032",
   "metadata": {},
   "outputs": [],
   "source": []
  }
 ],
 "metadata": {
  "kernelspec": {
   "display_name": "Python 3 (ipykernel)",
   "language": "python",
   "name": "python3"
  },
  "language_info": {
   "codemirror_mode": {
    "name": "ipython",
    "version": 3
   },
   "file_extension": ".py",
   "mimetype": "text/x-python",
   "name": "python",
   "nbconvert_exporter": "python",
   "pygments_lexer": "ipython3",
   "version": "3.9.6"
  }
 },
 "nbformat": 4,
 "nbformat_minor": 5
}

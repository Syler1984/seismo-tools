{
 "cells": [
  {
   "cell_type": "markdown",
   "id": "c03149b9",
   "metadata": {},
   "source": [
    "# convert_idg_mat_dataset\n",
    "\n",
    "This script converts dataset organized as folder with collection of .mat files (with field for data and pick position in seconds)."
   ]
  },
  {
   "cell_type": "code",
   "execution_count": 1,
   "id": "d83ff5a5",
   "metadata": {},
   "outputs": [],
   "source": [
    "import os\n",
    "import scipy.io\n",
    "import obspy as obs\n",
    "from pathlib import Path\n",
    "import pandas as pd"
   ]
  },
  {
   "cell_type": "code",
   "execution_count": 2,
   "id": "77a538d5",
   "metadata": {},
   "outputs": [],
   "source": [
    "path_in = 'C:/data/datasets/data_for_ML/events_data/'  # path to the dataset directory\n",
    "path_out = 'C:/data/datasets/data_for_ML_convertet/events_data/'\n",
    "data_keys = ['data_record']\n",
    "time_keys = ['time_in']\n",
    "csv_file_out = 'picks.csv' \n",
    "ml_file = 'input.txt'\n",
    "\n",
    "preprocess = False\n",
    "\n",
    "in_df = 10000.\n",
    "out_df = 100."
   ]
  },
  {
   "cell_type": "code",
   "execution_count": 3,
   "id": "63099eea",
   "metadata": {},
   "outputs": [],
   "source": [
    "# Check that path_out is not a file"
   ]
  },
  {
   "cell_type": "code",
   "execution_count": 4,
   "id": "435b869d",
   "metadata": {},
   "outputs": [],
   "source": [
    "def generate_ml_input_file(path, df):\n",
    "    \"\"\"\n",
    "    Generates input file for https://github.com/Syler1984/seismo-ml-models-integration.\n",
    "    \"\"\"\n",
    "    with open(path, 'w') as f:\n",
    "        for _, row in df.iterrows():\n",
    "            wave = row['file']\n",
    "            f.write(f'{wave} {wave} {wave}\\n')"
   ]
  },
  {
   "cell_type": "code",
   "execution_count": 5,
   "id": "e6c08693",
   "metadata": {},
   "outputs": [],
   "source": [
    "def get_content(data, keys):\n",
    "    \"\"\"\n",
    "    Returns content of data, indexed by series of keys.\n",
    "    Usage Example:\n",
    "        data = get_content(dataset, [\"data_record\", \"Z\"])\n",
    "        Will return dataset[\"data_record\"][\"Z\"].\n",
    "    \"\"\"\n",
    "    for k in keys:\n",
    "        data = data[k]\n",
    "    return data"
   ]
  },
  {
   "cell_type": "code",
   "execution_count": 6,
   "id": "a1127d14",
   "metadata": {},
   "outputs": [],
   "source": [
    "def convert_file(path_in, dir_out, data_keys, time_keys, preprocess=True):\n",
    "    \"\"\"\n",
    "    Converts seismic data from .mat dataset to miniSEED format.\n",
    "    \"\"\"\n",
    "    dataset = scipy.io.loadmat(path_in)\n",
    "    \n",
    "    # Check if there are multiple data or time entries\n",
    "    data = get_content(dataset, data_keys)\n",
    "    time = get_content(dataset, time_keys)\n",
    "    \n",
    "    if len(data) != 1:\n",
    "        raise AttributeError(f'In file \"{path_in}\" data array length is not equal one entry!')\n",
    "    if len(time) != 1:\n",
    "        raise AttributeError(f'In file \"{path_in}\" time array length is not equal one entry!')\n",
    "        \n",
    "    data = data[0]\n",
    "    time = time[0]\n",
    "\n",
    "    trace = obs.Trace(data)\n",
    "\n",
    "    trace.stats.sampling_rate = in_df\n",
    "\n",
    "    if preprocess:\n",
    "        trace.detrend(type=\"linear\")\n",
    "        trace.filter(type=\"highpass\", freq=2.)\n",
    "        \n",
    "    trace.resample(out_df)\n",
    "    \n",
    "    if preprocess:\n",
    "        trace.normalize()\n",
    "    \n",
    "    stream = obs.Stream(traces=[trace])\n",
    "    \n",
    "    # Generate output file path\n",
    "    out_name = os.path.split(path_in)[1]\n",
    "    out_name = os.path.splitext(out_name)[0]\n",
    "    out_name = f'{out_name}.mseed'\n",
    "    path_out = os.path.join(dir_out, out_name)\n",
    "    \n",
    "    # Generate unique filename\n",
    "    \n",
    "    # Save stream\n",
    "    stream.write(path_out, format='MSEED')\n",
    "    \n",
    "    return {'file': path_out, 'time': time}"
   ]
  },
  {
   "cell_type": "code",
   "execution_count": 7,
   "id": "528665e8",
   "metadata": {},
   "outputs": [],
   "source": [
    "files = os.listdir(path_in)  # load input file names\n",
    "Path(path_out).mkdir(parents=True, exist_ok=True)  # create out directory if doesn't exists"
   ]
  },
  {
   "cell_type": "code",
   "execution_count": 8,
   "id": "905a49af",
   "metadata": {},
   "outputs": [],
   "source": [
    "df = pd.DataFrame({'file': [], 'time': []})"
   ]
  },
  {
   "cell_type": "code",
   "execution_count": 9,
   "id": "aa289a68",
   "metadata": {
    "scrolled": false
   },
   "outputs": [],
   "source": [
    "for f_in in files:\n",
    "    f_in = os.path.join(path_in, f_in)\n",
    "    df = df.append(convert_file(f_in, path_out, data_keys, time_keys, preprocess=preprocess), ignore_index=True)"
   ]
  },
  {
   "cell_type": "code",
   "execution_count": 11,
   "id": "99354163",
   "metadata": {},
   "outputs": [],
   "source": [
    "df_out = os.path.join(path_out, csv_file_out)\n",
    "df.to_csv(df_out, index=False)"
   ]
  },
  {
   "cell_type": "code",
   "execution_count": 12,
   "id": "2f7b33bc",
   "metadata": {},
   "outputs": [],
   "source": [
    "ml_out = os.path.join(path_out, ml_file)\n",
    "generate_ml_input_file(ml_out, df)"
   ]
  },
  {
   "cell_type": "markdown",
   "id": "97192d1e",
   "metadata": {},
   "source": [
    "## Check .csv output"
   ]
  },
  {
   "cell_type": "code",
   "execution_count": 13,
   "id": "2d1eac64",
   "metadata": {},
   "outputs": [
    {
     "data": {
      "text/html": [
       "<div>\n",
       "<style scoped>\n",
       "    .dataframe tbody tr th:only-of-type {\n",
       "        vertical-align: middle;\n",
       "    }\n",
       "\n",
       "    .dataframe tbody tr th {\n",
       "        vertical-align: top;\n",
       "    }\n",
       "\n",
       "    .dataframe thead th {\n",
       "        text-align: right;\n",
       "    }\n",
       "</style>\n",
       "<table border=\"1\" class=\"dataframe\">\n",
       "  <thead>\n",
       "    <tr style=\"text-align: right;\">\n",
       "      <th></th>\n",
       "      <th>file</th>\n",
       "      <th>time</th>\n",
       "    </tr>\n",
       "  </thead>\n",
       "  <tbody>\n",
       "    <tr>\n",
       "      <th>0</th>\n",
       "      <td>C:/data/datasets/data_for_ML_convertet/events_...</td>\n",
       "      <td>[47.1319]</td>\n",
       "    </tr>\n",
       "    <tr>\n",
       "      <th>1</th>\n",
       "      <td>C:/data/datasets/data_for_ML_convertet/events_...</td>\n",
       "      <td>[6.0117, 22.7863]</td>\n",
       "    </tr>\n",
       "    <tr>\n",
       "      <th>2</th>\n",
       "      <td>C:/data/datasets/data_for_ML_convertet/events_...</td>\n",
       "      <td>[4.1254]</td>\n",
       "    </tr>\n",
       "    <tr>\n",
       "      <th>3</th>\n",
       "      <td>C:/data/datasets/data_for_ML_convertet/events_...</td>\n",
       "      <td>[47.1244]</td>\n",
       "    </tr>\n",
       "    <tr>\n",
       "      <th>4</th>\n",
       "      <td>C:/data/datasets/data_for_ML_convertet/events_...</td>\n",
       "      <td>[6.0038, 22.7785]</td>\n",
       "    </tr>\n",
       "    <tr>\n",
       "      <th>...</th>\n",
       "      <td>...</td>\n",
       "      <td>...</td>\n",
       "    </tr>\n",
       "    <tr>\n",
       "      <th>157</th>\n",
       "      <td>C:/data/datasets/data_for_ML_convertet/events_...</td>\n",
       "      <td>[39.552]</td>\n",
       "    </tr>\n",
       "    <tr>\n",
       "      <th>158</th>\n",
       "      <td>C:/data/datasets/data_for_ML_convertet/events_...</td>\n",
       "      <td>[0.7377]</td>\n",
       "    </tr>\n",
       "    <tr>\n",
       "      <th>159</th>\n",
       "      <td>C:/data/datasets/data_for_ML_convertet/events_...</td>\n",
       "      <td>[39.5442]</td>\n",
       "    </tr>\n",
       "    <tr>\n",
       "      <th>160</th>\n",
       "      <td>C:/data/datasets/data_for_ML_convertet/events_...</td>\n",
       "      <td>[0.7344]</td>\n",
       "    </tr>\n",
       "    <tr>\n",
       "      <th>161</th>\n",
       "      <td>C:/data/datasets/data_for_ML_convertet/events_...</td>\n",
       "      <td>[39.5411]</td>\n",
       "    </tr>\n",
       "  </tbody>\n",
       "</table>\n",
       "<p>162 rows × 2 columns</p>\n",
       "</div>"
      ],
      "text/plain": [
       "                                                  file               time\n",
       "0    C:/data/datasets/data_for_ML_convertet/events_...          [47.1319]\n",
       "1    C:/data/datasets/data_for_ML_convertet/events_...  [6.0117, 22.7863]\n",
       "2    C:/data/datasets/data_for_ML_convertet/events_...           [4.1254]\n",
       "3    C:/data/datasets/data_for_ML_convertet/events_...          [47.1244]\n",
       "4    C:/data/datasets/data_for_ML_convertet/events_...  [6.0038, 22.7785]\n",
       "..                                                 ...                ...\n",
       "157  C:/data/datasets/data_for_ML_convertet/events_...           [39.552]\n",
       "158  C:/data/datasets/data_for_ML_convertet/events_...           [0.7377]\n",
       "159  C:/data/datasets/data_for_ML_convertet/events_...          [39.5442]\n",
       "160  C:/data/datasets/data_for_ML_convertet/events_...           [0.7344]\n",
       "161  C:/data/datasets/data_for_ML_convertet/events_...          [39.5411]\n",
       "\n",
       "[162 rows x 2 columns]"
      ]
     },
     "execution_count": 13,
     "metadata": {},
     "output_type": "execute_result"
    }
   ],
   "source": [
    "df"
   ]
  },
  {
   "cell_type": "code",
   "execution_count": 14,
   "id": "6325292d",
   "metadata": {
    "scrolled": false
   },
   "outputs": [
    {
     "data": {
      "text/html": [
       "<div>\n",
       "<style scoped>\n",
       "    .dataframe tbody tr th:only-of-type {\n",
       "        vertical-align: middle;\n",
       "    }\n",
       "\n",
       "    .dataframe tbody tr th {\n",
       "        vertical-align: top;\n",
       "    }\n",
       "\n",
       "    .dataframe thead th {\n",
       "        text-align: right;\n",
       "    }\n",
       "</style>\n",
       "<table border=\"1\" class=\"dataframe\">\n",
       "  <thead>\n",
       "    <tr style=\"text-align: right;\">\n",
       "      <th></th>\n",
       "      <th>file</th>\n",
       "      <th>time</th>\n",
       "    </tr>\n",
       "  </thead>\n",
       "  <tbody>\n",
       "    <tr>\n",
       "      <th>0</th>\n",
       "      <td>C:/data/datasets/data_for_ML_convertet/events_...</td>\n",
       "      <td>[ 47.1319]</td>\n",
       "    </tr>\n",
       "    <tr>\n",
       "      <th>1</th>\n",
       "      <td>C:/data/datasets/data_for_ML_convertet/events_...</td>\n",
       "      <td>[  6.0117  22.7863]</td>\n",
       "    </tr>\n",
       "    <tr>\n",
       "      <th>2</th>\n",
       "      <td>C:/data/datasets/data_for_ML_convertet/events_...</td>\n",
       "      <td>[ 4.1254]</td>\n",
       "    </tr>\n",
       "    <tr>\n",
       "      <th>3</th>\n",
       "      <td>C:/data/datasets/data_for_ML_convertet/events_...</td>\n",
       "      <td>[ 47.1244]</td>\n",
       "    </tr>\n",
       "    <tr>\n",
       "      <th>4</th>\n",
       "      <td>C:/data/datasets/data_for_ML_convertet/events_...</td>\n",
       "      <td>[  6.0038  22.7785]</td>\n",
       "    </tr>\n",
       "    <tr>\n",
       "      <th>...</th>\n",
       "      <td>...</td>\n",
       "      <td>...</td>\n",
       "    </tr>\n",
       "    <tr>\n",
       "      <th>157</th>\n",
       "      <td>C:/data/datasets/data_for_ML_convertet/events_...</td>\n",
       "      <td>[ 39.552]</td>\n",
       "    </tr>\n",
       "    <tr>\n",
       "      <th>158</th>\n",
       "      <td>C:/data/datasets/data_for_ML_convertet/events_...</td>\n",
       "      <td>[ 0.7377]</td>\n",
       "    </tr>\n",
       "    <tr>\n",
       "      <th>159</th>\n",
       "      <td>C:/data/datasets/data_for_ML_convertet/events_...</td>\n",
       "      <td>[ 39.5442]</td>\n",
       "    </tr>\n",
       "    <tr>\n",
       "      <th>160</th>\n",
       "      <td>C:/data/datasets/data_for_ML_convertet/events_...</td>\n",
       "      <td>[ 0.7344]</td>\n",
       "    </tr>\n",
       "    <tr>\n",
       "      <th>161</th>\n",
       "      <td>C:/data/datasets/data_for_ML_convertet/events_...</td>\n",
       "      <td>[ 39.5411]</td>\n",
       "    </tr>\n",
       "  </tbody>\n",
       "</table>\n",
       "<p>162 rows × 2 columns</p>\n",
       "</div>"
      ],
      "text/plain": [
       "                                                  file                 time\n",
       "0    C:/data/datasets/data_for_ML_convertet/events_...           [ 47.1319]\n",
       "1    C:/data/datasets/data_for_ML_convertet/events_...  [  6.0117  22.7863]\n",
       "2    C:/data/datasets/data_for_ML_convertet/events_...            [ 4.1254]\n",
       "3    C:/data/datasets/data_for_ML_convertet/events_...           [ 47.1244]\n",
       "4    C:/data/datasets/data_for_ML_convertet/events_...  [  6.0038  22.7785]\n",
       "..                                                 ...                  ...\n",
       "157  C:/data/datasets/data_for_ML_convertet/events_...            [ 39.552]\n",
       "158  C:/data/datasets/data_for_ML_convertet/events_...            [ 0.7377]\n",
       "159  C:/data/datasets/data_for_ML_convertet/events_...           [ 39.5442]\n",
       "160  C:/data/datasets/data_for_ML_convertet/events_...            [ 0.7344]\n",
       "161  C:/data/datasets/data_for_ML_convertet/events_...           [ 39.5411]\n",
       "\n",
       "[162 rows x 2 columns]"
      ]
     },
     "execution_count": 14,
     "metadata": {},
     "output_type": "execute_result"
    }
   ],
   "source": [
    "df_save_test = pd.read_csv(df_out); df_save_test"
   ]
  },
  {
   "cell_type": "code",
   "execution_count": null,
   "id": "70f1cf14",
   "metadata": {},
   "outputs": [],
   "source": []
  }
 ],
 "metadata": {
  "kernelspec": {
   "display_name": "Python 3 (ipykernel)",
   "language": "python",
   "name": "python3"
  },
  "language_info": {
   "codemirror_mode": {
    "name": "ipython",
    "version": 3
   },
   "file_extension": ".py",
   "mimetype": "text/x-python",
   "name": "python",
   "nbconvert_exporter": "python",
   "pygments_lexer": "ipython3",
   "version": "3.9.6"
  }
 },
 "nbformat": 4,
 "nbformat_minor": 5
}

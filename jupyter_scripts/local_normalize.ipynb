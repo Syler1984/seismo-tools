{
 "cells": [
  {
   "cell_type": "markdown",
   "id": "43586e4d",
   "metadata": {},
   "source": [
    "# local_normalize\n",
    "\n",
    "This script designed to normalize *seismo-like* datasets by per-channel absolute maximum.\n",
    "\n",
    "*DATA* is an array of shape: `(record_number, sample, channel)`. <br>"
   ]
  },
  {
   "cell_type": "code",
   "execution_count": 42,
   "id": "4a4f5371",
   "metadata": {},
   "outputs": [],
   "source": [
    "import h5py as h5\n",
    "import numpy as np"
   ]
  },
  {
   "cell_type": "code",
   "execution_count": 1,
   "id": "a30d5e49",
   "metadata": {},
   "outputs": [],
   "source": [
    "# Modifying sys.path to be able to load project packages\n",
    "import sys\n",
    "sys.path.append('../')"
   ]
  },
  {
   "cell_type": "code",
   "execution_count": 2,
   "id": "3738afe0",
   "metadata": {},
   "outputs": [],
   "source": [
    "# Load project packages\n",
    "from utils.h5_tools import write_batch"
   ]
  },
  {
   "cell_type": "code",
   "execution_count": 43,
   "id": "83dae803",
   "metadata": {},
   "outputs": [],
   "source": [
    "# Init parameters\n",
    "path = 'data/2014_2019_global_norm.h5'\n",
    "save_path = 'data/2014_2019_local_norm.h5'\n",
    "\n",
    "data_key_stack = ['X']\n",
    "label_key_stack = ['Y']\n",
    "id_key_stack = ['ID']\n",
    "\n",
    "batch_size = 20000"
   ]
  },
  {
   "cell_type": "markdown",
   "id": "3084e588",
   "metadata": {},
   "source": [
    "`data_key_stack` and `label_key_stack` are stacks of *.h5* file keys, leading to *DATA* and *LABELS* arrays. For exanple, file might have a structure like:\n",
    "\n",
    "---\n",
    "```\n",
    "Noise\n",
    "-- STATS\n",
    "-- PICKS\n",
    "---- X\n",
    "---- Y\n",
    "P-Waves\n",
    "-- STATS\n",
    "-- PICKS\n",
    "---- X\n",
    "---- Y\n",
    "```\n",
    "---\n",
    ".. then `data_key_stack` might be `[Noise, PICKS, X]` or `[P-Waves, PICKS, X]`."
   ]
  },
  {
   "cell_type": "code",
   "execution_count": 44,
   "id": "90f190b4",
   "metadata": {},
   "outputs": [],
   "source": [
    "# Read data\n",
    "f1 = h5.File(path, 'r')\n",
    "\n",
    "X = f1\n",
    "for k in data_key_stack:\n",
    "    X = X[k]\n",
    "    \n",
    "Y = None\n",
    "if label_key_stack:\n",
    "    Y = f1\n",
    "    for k in label_key_stack:\n",
    "        Y = Y[k]\n",
    "    \n",
    "ID = None\n",
    "if id_key_stack:\n",
    "    ID = f1\n",
    "    for k in id_key_stack:\n",
    "        ID = ID[k]\n",
    "        \n",
    "f1_length = X.shape[0]\n",
    "f1_samples = X.shape[1]\n",
    "f1_channels = X.shape[2]"
   ]
  },
  {
   "cell_type": "code",
   "execution_count": 45,
   "id": "d0a5cde8",
   "metadata": {},
   "outputs": [],
   "source": [
    "# Convert data\n",
    "batch_count = f1_length // batch_size\n",
    "last_batch = f1_length % batch_size\n",
    "\n",
    "if last_batch:\n",
    "    batch_count += 1\n",
    "    \n",
    "for b in range(batch_count):\n",
    "    \n",
    "    c_batch_size = batch_size\n",
    "    if b == batch_count - 1:\n",
    "        c_batch_size = last_batch\n",
    "        \n",
    "    start_pos = batch_size * b\n",
    "    \n",
    "    c_X = X[start_pos : start_pos + c_batch_size]\n",
    "    \n",
    "    for i in range(c_batch_size):\n",
    "        \n",
    "        for j in range(f1_channels):\n",
    "            \n",
    "            loc_max = np.max(np.abs(c_X[i, :, j]))\n",
    "            c_X[i, :, j] /= loc_max\n",
    "    \n",
    "    write_batch(save_path, data_key_stack[-1], c_X)\n",
    "    \n",
    "    if Y:\n",
    "        c_Y = Y[start_pos : start_pos + c_batch_size]\n",
    "        write_batch(save_path, label_key_stack[-1], c_Y)\n",
    "        \n",
    "    if ID:\n",
    "        c_ID = ID[start_pos : start_pos + c_batch_size]\n",
    "        write_batch(save_path, id_key_stack[-1], c_ID, string = True)"
   ]
  },
  {
   "cell_type": "code",
   "execution_count": 46,
   "id": "8ff61502",
   "metadata": {},
   "outputs": [],
   "source": [
    "# Close files\n",
    "f1.close()"
   ]
  },
  {
   "cell_type": "code",
   "execution_count": null,
   "id": "eab3b31d",
   "metadata": {},
   "outputs": [],
   "source": []
  }
 ],
 "metadata": {
  "kernelspec": {
   "display_name": "Python 3",
   "language": "python",
   "name": "python3"
  },
  "language_info": {
   "codemirror_mode": {
    "name": "ipython",
    "version": 3
   },
   "file_extension": ".py",
   "mimetype": "text/x-python",
   "name": "python",
   "nbconvert_exporter": "python",
   "pygments_lexer": "ipython3",
   "version": "3.8.8"
  }
 },
 "nbformat": 4,
 "nbformat_minor": 5
}

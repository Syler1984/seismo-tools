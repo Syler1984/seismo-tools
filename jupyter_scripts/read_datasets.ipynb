{
 "cells": [
  {
   "cell_type": "code",
   "execution_count": 1,
   "id": "0ddbca23",
   "metadata": {},
   "outputs": [],
   "source": [
    "import h5py as h5"
   ]
  },
  {
   "cell_type": "code",
   "execution_count": 5,
   "id": "7b3df5bd",
   "metadata": {},
   "outputs": [],
   "source": [
    "sak_path = 'C:/data/datasets/sh_bh_datasets/2014_2019_global_norm_bh_sh.h5'\n",
    "sak_path_2 = 'C:/data/datasets/sh_bh_datasets/2020_2021_global_norm_sh_bh.h5'\n",
    "dag_path = 'C:/data/datasets/sh_bh_datasets/'"
   ]
  },
  {
   "cell_type": "code",
   "execution_count": 6,
   "id": "e8ae8944",
   "metadata": {},
   "outputs": [],
   "source": [
    "sak_1 = h5.File(sak_path, 'r')\n",
    "sak_2 = h5.File(sak_path_2, 'r')"
   ]
  },
  {
   "cell_type": "code",
   "execution_count": 9,
   "id": "dd6e76dc",
   "metadata": {},
   "outputs": [
    {
     "data": {
      "text/plain": [
       "<HDF5 dataset \"Y\": shape (8445,), type \"<f8\">"
      ]
     },
     "execution_count": 9,
     "metadata": {},
     "output_type": "execute_result"
    }
   ],
   "source": [
    "Y1 = sak_1['Y']\n",
    "Y1"
   ]
  },
  {
   "cell_type": "code",
   "execution_count": 10,
   "id": "8c80da73",
   "metadata": {},
   "outputs": [
    {
     "data": {
      "text/plain": [
       "<HDF5 dataset \"Y\": shape (1382,), type \"<f8\">"
      ]
     },
     "execution_count": 10,
     "metadata": {},
     "output_type": "execute_result"
    }
   ],
   "source": [
    "Y2 = sak_2['Y']\n",
    "Y2"
   ]
  },
  {
   "cell_type": "code",
   "execution_count": 13,
   "id": "e0f746bf",
   "metadata": {},
   "outputs": [
    {
     "data": {
      "text/plain": [
       "3045"
      ]
     },
     "execution_count": 13,
     "metadata": {},
     "output_type": "execute_result"
    }
   ],
   "source": [
    "Y1[Y1[:] == 0].shape[0] + Y2[Y2[:] == 0].shape[0]"
   ]
  },
  {
   "cell_type": "code",
   "execution_count": 14,
   "id": "b84d3141",
   "metadata": {},
   "outputs": [
    {
     "data": {
      "text/plain": [
       "3737"
      ]
     },
     "execution_count": 14,
     "metadata": {},
     "output_type": "execute_result"
    }
   ],
   "source": [
    "Y1[Y1[:] == 1].shape[0] + Y2[Y2[:] == 1].shape[0]"
   ]
  },
  {
   "cell_type": "code",
   "execution_count": 15,
   "id": "3f42a46f",
   "metadata": {},
   "outputs": [
    {
     "data": {
      "text/plain": [
       "3045"
      ]
     },
     "execution_count": 15,
     "metadata": {},
     "output_type": "execute_result"
    }
   ],
   "source": [
    "Y1[Y1[:] == 2].shape[0] + Y2[Y2[:] == 2].shape[0]"
   ]
  },
  {
   "cell_type": "code",
   "execution_count": null,
   "id": "cde4d6d5",
   "metadata": {},
   "outputs": [],
   "source": []
  }
 ],
 "metadata": {
  "kernelspec": {
   "display_name": "Python 3",
   "language": "python",
   "name": "python3"
  },
  "language_info": {
   "codemirror_mode": {
    "name": "ipython",
    "version": 3
   },
   "file_extension": ".py",
   "mimetype": "text/x-python",
   "name": "python",
   "nbconvert_exporter": "python",
   "pygments_lexer": "ipython3",
   "version": "3.8.8"
  }
 },
 "nbformat": 4,
 "nbformat_minor": 5
}

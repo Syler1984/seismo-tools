{
 "cells": [
  {
   "cell_type": "markdown",
   "id": "e0ecf683",
   "metadata": {},
   "source": [
    "# merge_eqt_sets\n",
    "\n",
    "Merges two EQT datasets (with string p and s labels) into a single set."
   ]
  },
  {
   "cell_type": "code",
   "execution_count": 1,
   "id": "d0de0c42",
   "metadata": {},
   "outputs": [],
   "source": [
    "path_1 = 'C:/data/eqt_waveforms_sta_lta.h5'\n",
    "path_2 = 'C:/data/eqt_waveforms.h5'"
   ]
  },
  {
   "cell_type": "code",
   "execution_count": null,
   "id": "f7f5efd8",
   "metadata": {},
   "outputs": [],
   "source": []
  }
 ],
 "metadata": {
  "kernelspec": {
   "display_name": "Python 3",
   "language": "python",
   "name": "python3"
  },
  "language_info": {
   "codemirror_mode": {
    "name": "ipython",
    "version": 3
   },
   "file_extension": ".py",
   "mimetype": "text/x-python",
   "name": "python",
   "nbconvert_exporter": "python",
   "pygments_lexer": "ipython3",
   "version": "3.8.8"
  }
 },
 "nbformat": 4,
 "nbformat_minor": 5
}

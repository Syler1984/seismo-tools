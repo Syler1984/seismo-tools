{
 "cells": [
  {
   "cell_type": "markdown",
   "id": "3ef7ed7a",
   "metadata": {},
   "source": [
    "# predict\n",
    "\n",
    "This script designed to run model (Seismo-Performer, GPD) prediction on selected waveform(s). \n",
    "Supported data sources:\n",
    "- .h5"
   ]
  },
  {
   "cell_type": "code",
   "execution_count": 1,
   "id": "afde5ca5",
   "metadata": {},
   "outputs": [],
   "source": [
    "import h5py as h5\n",
    "import numpy as np\n",
    "from matplotlib import pyplot as plt\n",
    "\n",
    "# Modifying sys.path to be able to load project packages\n",
    "import sys\n",
    "sys.path.append('../')\n",
    "\n",
    "# Modifying sys.path to be able to load seismo-performer modules\n",
    "import sys\n",
    "sys.path.append('../../seismo-performer/')\n",
    "sys.path.append('../../seismo-performer/utils')\n",
    "\n",
    "import seismo_load\n",
    "import gpd_loader"
   ]
  },
  {
   "cell_type": "markdown",
   "id": "4a432e4b",
   "metadata": {},
   "source": [
    "## Utils"
   ]
  },
  {
   "cell_type": "code",
   "execution_count": 52,
   "id": "e0d273a0",
   "metadata": {},
   "outputs": [],
   "source": [
    "class DataSource():\n",
    "    \n",
    "    def __len__(self):\n",
    "        return 0\n",
    "    \n",
    "    def get(self, i):\n",
    "        return None\n",
    "    \n",
    "    def label(self, i):\n",
    "        return None\n",
    "\n",
    "    \n",
    "class H5Source(DataSource):\n",
    "    \n",
    "    def __init__(self, data_source):\n",
    "        self._path = data_source['path']\n",
    "        self._data_key_stack = data_source['data_key_stack']\n",
    "        self._label_key_stack = data_source['label_key_stack']\n",
    "        \n",
    "    def _data(self, file):\n",
    "        X = file\n",
    "        for key in self._data_key_stack:\n",
    "            X = X[key]\n",
    "        return X\n",
    "    \n",
    "    def _labels(self, file):\n",
    "        Y = file\n",
    "        for key in self._label_key_stack:\n",
    "            Y = Y[key]\n",
    "        return Y\n",
    "        \n",
    "    def get(self, i):\n",
    "        if (type(i) is tuple or type(i) is list) and len(i) == 2:\n",
    "            with h5.File(self._path, 'r') as dataset:\n",
    "                X = self._data(dataset)\n",
    "                return X[i[0]:i[1]]\n",
    "        if type(i) is int:\n",
    "            with h5.File(self._path, 'r') as dataset:\n",
    "                X = self._data(dataset)\n",
    "                # Reshape data from (n_samples, n_channels) to (1, n_samples, n_channels)\n",
    "                X = X[i]\n",
    "                X = X.reshape((1, *X.shape))\n",
    "                return X\n",
    "        raise AttributeError(f'Unsuported type of index {type(i)}!')\n",
    "        \n",
    "    def label(self, i):\n",
    "        if self._label_key_stack is None:\n",
    "            return None\n",
    "        if (type(i) is tuple or type(i) is list) and len(i) == 2:\n",
    "            with h5.File(self._path, 'r') as dataset:\n",
    "                Y = self._labels(dataset)\n",
    "                return Y[i[0]:i[1]]\n",
    "        if type(i) is int:\n",
    "            with h5.File(self._path, 'r') as dataset:\n",
    "                Y = self._labels(dataset)\n",
    "                return Y[i]\n",
    "        raise AttributeError(f'Unsuported type of index {type(i)}!')\n",
    "        \n",
    "    def __len__(self):\n",
    "        with h5.File(self._path, 'r') as dataset:\n",
    "            X = self._data(dataset)\n",
    "            return X.shape[0]\n",
    "\n",
    "def parse_data_source(data_source):\n",
    "    source_type = data_source['type']\n",
    "    if source_type == 'h5':\n",
    "        return H5Source(data_source)"
   ]
  },
  {
   "cell_type": "markdown",
   "id": "175e909a",
   "metadata": {},
   "source": [
    "Avaliable **model names**:\n",
    "- `sp` *- Seismo-Performer*\n",
    "- `sp-cnn` *- Seismo-Performer CNN*\n",
    "- `gpd` *- ConvNet (GPD)*"
   ]
  },
  {
   "cell_type": "markdown",
   "id": "a8b02ba2",
   "metadata": {},
   "source": [
    "### Setup model"
   ]
  },
  {
   "cell_type": "code",
   "execution_count": 53,
   "id": "fcc3df6c",
   "metadata": {},
   "outputs": [],
   "source": [
    "model_name = 'sp'\n",
    "weights = None\n",
    "\n",
    "default_weights = {\n",
    "    'sp': '../../seismo-performer/WEIGHTS/w_model_performer_with_spec.hd5',\n",
    "    'sp-cnn': '../../seismo-performer/WEIGHTS/weights_model_cnn_spec.hd5',\n",
    "    'gpd': '../../seismo-performer/WEIGHTS/w_gpd_scsn_2000_2017.h5',\n",
    "}"
   ]
  },
  {
   "cell_type": "markdown",
   "id": "3c28ac13",
   "metadata": {},
   "source": [
    "### Setup data source"
   ]
  },
  {
   "cell_type": "code",
   "execution_count": 54,
   "id": "a113d892",
   "metadata": {},
   "outputs": [],
   "source": [
    "data_source = {\n",
    "    'type': 'h5',\n",
    "    'path': 'C:/data/false.h5',\n",
    "    'data_key_stack': ['false-positives'],\n",
    "    'label_key_stack': None,\n",
    "}"
   ]
  },
  {
   "cell_type": "markdown",
   "id": "237fc0c5",
   "metadata": {},
   "source": [
    "## Load model"
   ]
  },
  {
   "cell_type": "code",
   "execution_count": 55,
   "id": "2d229c39",
   "metadata": {},
   "outputs": [],
   "source": [
    "if weights is None:\n",
    "    weights = default_weights[model_name]\n",
    "\n",
    "if model_name == 'sp':\n",
    "    model = seismo_load.load_performer(weights)\n",
    "elif model_name == 'sp-cnn':\n",
    "    model = seismo_load.load_cnn(weights)\n",
    "elif model_name == 'gpd':\n",
    "    model = gpd_loader.load_model(weights)"
   ]
  },
  {
   "cell_type": "markdown",
   "id": "6af04dec",
   "metadata": {},
   "source": [
    "## Get data"
   ]
  },
  {
   "cell_type": "code",
   "execution_count": 56,
   "id": "0a963290",
   "metadata": {},
   "outputs": [],
   "source": [
    "data = parse_data_source(data_source)"
   ]
  },
  {
   "cell_type": "code",
   "execution_count": 59,
   "id": "16f26a5a",
   "metadata": {},
   "outputs": [],
   "source": [
    "result = model.predict(data.get((0, 16))[:, 200:600])"
   ]
  },
  {
   "cell_type": "code",
   "execution_count": 60,
   "id": "0b867639",
   "metadata": {},
   "outputs": [
    {
     "data": {
      "text/plain": [
       "array([[9.9956292e-01, 3.8234369e-04, 5.4685039e-05],\n",
       "       [4.9051305e-04, 9.9853802e-01, 9.7142108e-04],\n",
       "       [8.5164076e-01, 2.5060115e-02, 1.2329903e-01],\n",
       "       [9.9909413e-01, 6.1123417e-04, 2.9468132e-04],\n",
       "       [9.9452150e-01, 3.0807280e-03, 2.3978071e-03],\n",
       "       [9.9798954e-01, 1.4979603e-03, 5.1249983e-04],\n",
       "       [9.9812001e-01, 6.1287504e-04, 1.2670311e-03],\n",
       "       [2.7983024e-04, 9.8806828e-01, 1.1651807e-02],\n",
       "       [9.9741179e-01, 2.0234962e-03, 5.6481815e-04],\n",
       "       [9.9506086e-01, 1.1359086e-03, 3.8031884e-03],\n",
       "       [2.2804782e-04, 9.9715412e-01, 2.6179322e-03],\n",
       "       [9.9820387e-01, 8.9471455e-04, 9.0144604e-04],\n",
       "       [9.6929181e-01, 1.6144028e-02, 1.4564155e-02],\n",
       "       [9.6975058e-01, 9.9243606e-03, 2.0325080e-02],\n",
       "       [9.8759973e-01, 4.6991869e-03, 7.7009718e-03]], dtype=float32)"
      ]
     },
     "execution_count": 60,
     "metadata": {},
     "output_type": "execute_result"
    }
   ],
   "source": [
    "result"
   ]
  },
  {
   "cell_type": "code",
   "execution_count": 62,
   "id": "a66882ee",
   "metadata": {},
   "outputs": [
    {
     "name": "stdout",
     "output_type": "stream",
     "text": [
      "0\n",
      "1\n",
      "0\n",
      "0\n",
      "0\n",
      "0\n",
      "0\n",
      "1\n",
      "0\n",
      "0\n",
      "1\n",
      "0\n",
      "0\n",
      "0\n",
      "0\n"
     ]
    }
   ],
   "source": [
    "for x in result:\n",
    "    max_class = max(range(len(x)), key=x.__getitem__)\n",
    "    print(max_class)"
   ]
  },
  {
   "cell_type": "code",
   "execution_count": null,
   "id": "e0b76a76",
   "metadata": {},
   "outputs": [],
   "source": []
  }
 ],
 "metadata": {
  "kernelspec": {
   "display_name": "Python 3 (ipykernel)",
   "language": "python",
   "name": "python3"
  },
  "language_info": {
   "codemirror_mode": {
    "name": "ipython",
    "version": 3
   },
   "file_extension": ".py",
   "mimetype": "text/x-python",
   "name": "python",
   "nbconvert_exporter": "python",
   "pygments_lexer": "ipython3",
   "version": "3.9.6"
  }
 },
 "nbformat": 4,
 "nbformat_minor": 5
}

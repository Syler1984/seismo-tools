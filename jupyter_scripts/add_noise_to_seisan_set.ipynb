{
 "cells": [
  {
   "cell_type": "markdown",
   "id": "cfcc42bf",
   "metadata": {},
   "source": [
    "# add_noise_to_seisan_set\n",
    "\n",
    "This script adds data to selected dataset, same amount of data from original set (basically, replacing data)."
   ]
  },
  {
   "cell_type": "code",
   "execution_count": 1,
   "id": "fc617166",
   "metadata": {},
   "outputs": [],
   "source": [
    "import h5py as h5\n",
    "import numpy as np"
   ]
  },
  {
   "cell_type": "code",
   "execution_count": 2,
   "id": "554d7314",
   "metadata": {},
   "outputs": [],
   "source": [
    "# Modifying sys.path to be able to load project packages\n",
    "import sys\n",
    "sys.path.append('../')"
   ]
  },
  {
   "cell_type": "code",
   "execution_count": 3,
   "id": "4705a087",
   "metadata": {},
   "outputs": [],
   "source": [
    "# Load project packages\n",
    "from utils.h5_tools import write_batch"
   ]
  },
  {
   "cell_type": "code",
   "execution_count": null,
   "id": "3a1a3f69",
   "metadata": {},
   "outputs": [],
   "source": []
  }
 ],
 "metadata": {
  "kernelspec": {
   "display_name": "Python 3",
   "language": "python",
   "name": "python3"
  },
  "language_info": {
   "codemirror_mode": {
    "name": "ipython",
    "version": 3
   },
   "file_extension": ".py",
   "mimetype": "text/x-python",
   "name": "python",
   "nbconvert_exporter": "python",
   "pygments_lexer": "ipython3",
   "version": "3.8.8"
  }
 },
 "nbformat": 4,
 "nbformat_minor": 5
}

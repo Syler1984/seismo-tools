{
 "cells": [
  {
   "cell_type": "markdown",
   "id": "01b634e4",
   "metadata": {},
   "source": [
    "# plot_prc\n",
    "\n",
    "Plot Percision-Recall Curve from predictions data in *.csv* format.  "
   ]
  },
  {
   "cell_type": "code",
   "execution_count": 1,
   "id": "65af9e95",
   "metadata": {},
   "outputs": [],
   "source": [
    "import numpy as np\n",
    "import pandas as pd\n",
    "import matplotlib.pyplot as plt"
   ]
  },
  {
   "cell_type": "markdown",
   "id": "e03bcbc4",
   "metadata": {},
   "source": [
    "## Read data"
   ]
  },
  {
   "cell_type": "code",
   "execution_count": 2,
   "id": "c43bb2b6",
   "metadata": {},
   "outputs": [],
   "source": [
    "def get_data(path):\n",
    "    \n",
    "    df = pd.read_csv(path)\n",
    "    \n",
    "    return df.to_numpy()"
   ]
  },
  {
   "cell_type": "code",
   "execution_count": 3,
   "id": "d41e0ae9",
   "metadata": {},
   "outputs": [],
   "source": [
    "# data_st = get_data('C:/data/paper_06_2021/st_2014_2019_prc.csv')\n",
    "data_favor = get_data('C:/data/paper_06_2021/favor_dag_prc.csv')\n",
    "data_cnn = get_data('C:/data/paper_06_2021/cnn_dag_prc.csv')\n",
    "data_gpd = get_data('C:/data/paper_06_2021/ross_dag_prc.csv')"
   ]
  },
  {
   "cell_type": "code",
   "execution_count": 8,
   "id": "09ec4b49",
   "metadata": {},
   "outputs": [
    {
     "data": {
      "text/plain": [
       "((28111, 3), (28111, 3), (28111, 3))"
      ]
     },
     "execution_count": 8,
     "metadata": {},
     "output_type": "execute_result"
    }
   ],
   "source": [
    "data_favor.shape, data_cnn.shape, data_gpd.shape"
   ]
  },
  {
   "cell_type": "markdown",
   "id": "240998bc",
   "metadata": {},
   "source": [
    "## Get TP, FP, FN\n",
    "\n",
    "precision = tp / (tp + fp)\n",
    "\n",
    "recall = tp / (tp + fn)"
   ]
  },
  {
   "cell_type": "code",
   "execution_count": 9,
   "id": "87787db1",
   "metadata": {},
   "outputs": [],
   "source": [
    "def get_prc_data(data, true_label, threshold):\n",
    "    \"\"\"\n",
    "    Return number of true positives, false positives and false negatives.\n",
    "    Data shape: <row, column>. columns: 0 - true label, 1 - predicted label, 2 - probability.\n",
    "    \"\"\"\n",
    "    tp = fp = fn = 0\n",
    "    for i in range(data.shape[0]):\n",
    "        \n",
    "        if data[i][2] >= threshold:\n",
    "            y_pred = data[i][1]\n",
    "        else:\n",
    "            y_pred = -1\n",
    "            \n",
    "        if data[i][0] == y_pred == true_label:\n",
    "            tp += 1\n",
    "        elif y_pred == true_label:\n",
    "            fp += 1\n",
    "        elif data[i][0] == true_label:\n",
    "            fn += 1\n",
    "            \n",
    "    if tp + fp != 0:\n",
    "        precision = tp / (tp + fp)\n",
    "    else:\n",
    "        precision = np.Inf\n",
    "    if tp + fn != 0:\n",
    "        recall = tp / (tp + fn)\n",
    "    else:\n",
    "        recall = np.Inf\n",
    "            \n",
    "    return {'tp': tp, 'fp': fp, 'fn': fn, 'precision': precision, 'recall': recall}"
   ]
  },
  {
   "cell_type": "code",
   "execution_count": 10,
   "id": "1675b4a8",
   "metadata": {},
   "outputs": [],
   "source": [
    "# Example run\n",
    "# get_prc_data(data, 0, 0.95)"
   ]
  },
  {
   "cell_type": "code",
   "execution_count": 11,
   "id": "d75ef3db",
   "metadata": {},
   "outputs": [],
   "source": [
    "def plot_prc(data, label, thresholds):\n",
    "    \"\"\"\n",
    "    Gather and plot percision/recall curve.\n",
    "    \"\"\"\n",
    "    # Gather data\n",
    "    precision = []\n",
    "    recall = []\n",
    "    \n",
    "    for t in thresholds:\n",
    "        \n",
    "        prc_data = get_prc_data(data, label, t)\n",
    "        \n",
    "        precision.append(prc_data['precision'])\n",
    "        recall.append(prc_data['recall'])\n",
    "        \n",
    "    # Plot PRC\n",
    "    plt.plot(recall, precision)"
   ]
  },
  {
   "cell_type": "code",
   "execution_count": 12,
   "id": "1ba98050",
   "metadata": {},
   "outputs": [],
   "source": [
    "thresholds = np.linspace(0.1, 0.9, 9)"
   ]
  },
  {
   "cell_type": "code",
   "execution_count": 13,
   "id": "8b4e7874",
   "metadata": {},
   "outputs": [
    {
     "data": {
      "text/plain": [
       "array([0.1, 0.2, 0.3, 0.4, 0.5, 0.6, 0.7, 0.8, 0.9])"
      ]
     },
     "execution_count": 13,
     "metadata": {},
     "output_type": "execute_result"
    }
   ],
   "source": [
    "thresholds"
   ]
  },
  {
   "cell_type": "code",
   "execution_count": 14,
   "id": "02230145",
   "metadata": {},
   "outputs": [],
   "source": [
    "def append_prc(data, label, threshold, precision, recall):\n",
    "    \n",
    "    prc_data = get_prc_data(data, label, threshold)\n",
    "    precision.append(prc_data['precision'])\n",
    "    recall.append(prc_data['recall'])"
   ]
  },
  {
   "cell_type": "code",
   "execution_count": 15,
   "id": "c9e80b70",
   "metadata": {},
   "outputs": [],
   "source": [
    "def precision_recall_single(data):\n",
    "    \n",
    "    precision_P = []\n",
    "    precision_S = []\n",
    "    precision_N = []\n",
    "    \n",
    "    recall_P = []\n",
    "    recall_S = []\n",
    "    recall_N = []\n",
    "    \n",
    "    for t in thresholds:\n",
    "        \n",
    "        append_prc(data, 0, t, precision_P, recall_P)\n",
    "        append_prc(data, 1, t, precision_S, recall_S)\n",
    "        append_prc(data, 2, t, precision_N, recall_N)\n",
    "        \n",
    "    return {'precision': {'p': precision_P, 's': precision_S, 'n': precision_N}, \n",
    "            'recall': {'p': recall_P, 's': recall_S, 'n': recall_N}}"
   ]
  },
  {
   "cell_type": "code",
   "execution_count": 16,
   "id": "a7e27ff1",
   "metadata": {},
   "outputs": [],
   "source": [
    "def precision_recall(data_1, data_2):\n",
    "    \n",
    "    precision_1_P = []\n",
    "    recall_1_P = []\n",
    "    precision_2_P = []\n",
    "    recall_2_P = []\n",
    "    \n",
    "    precision_1_S = []\n",
    "    recall_1_S = []\n",
    "    precision_2_S = []\n",
    "    recall_2_S = []\n",
    "    \n",
    "    for t in thresholds:\n",
    "        \n",
    "        append_prc(data_1, 0, t, precision_1_P, recall_1_P)\n",
    "        append_prc(data_1, 1, t, precision_1_S, recall_1_S)\n",
    "        \n",
    "        append_prc(data_2, 0, t, precision_2_P, recall_2_P)\n",
    "        append_prc(data_2, 1, t, precision_2_S, recall_2_S)\n",
    "        \n",
    "    return [precision_1_P, precision_1_S, precision_2_P, precision_2_S], [recall_1_P, recall_1_S, recall_2_P, recall_2_S]"
   ]
  },
  {
   "cell_type": "code",
   "execution_count": 17,
   "id": "a87865ab",
   "metadata": {},
   "outputs": [],
   "source": [
    "# Generate plot data\n",
    "precision_recall = {}\n",
    "\n",
    "# precision_recall['st'] = precision_recall_single(data_st)\n",
    "precision_recall['favor'] = precision_recall_single(data_favor)\n",
    "precision_recall['cnn'] = precision_recall_single(data_cnn)\n",
    "precision_recall['gpd'] = precision_recall_single(data_gpd)"
   ]
  },
  {
   "cell_type": "code",
   "execution_count": 18,
   "id": "ecfa6c2e",
   "metadata": {},
   "outputs": [],
   "source": [
    "# Generate plot data\n",
    "# precision, recall = precision_recall(data_1, data_2)"
   ]
  },
  {
   "cell_type": "code",
   "execution_count": 35,
   "id": "a29e3b84",
   "metadata": {},
   "outputs": [],
   "source": [
    "def plot_prc_2(precision_recall):\n",
    "    \"\"\"\n",
    "    Gather and plot percision/recall curve.\n",
    "    \"\"\"\n",
    "    from matplotlib.ticker import FormatStrFormatter\n",
    "    \n",
    "    # Set shorter alias\n",
    "    pr = precision_recall\n",
    "    \n",
    "    # Plot PRC\n",
    "    fig = plt.figure(figsize = (7, 3), dpi = 160)\n",
    "    axes = fig.subplots(1, 2, sharey = True)\n",
    "    \n",
    "    fig.text(0.512, 0.00, 'Recall', va = 'center')\n",
    "    \n",
    "    middle_point = 4\n",
    "    mark_size = 4.\n",
    "    star_size = 8.\n",
    "    \n",
    "    axes[0].set_ylabel('Precision')\n",
    "    \n",
    "    # P\n",
    "    \"\"\"\n",
    "    axes[0].plot(pr['st']['recall']['p'], pr['st']['precision']['p'],\n",
    "                 '-b^', label = 'Transformer', markersize = mark_size)\n",
    "    axes[0].plot(pr['st']['recall']['p'][middle_point], pr['st']['precision']['p'][middle_point],\n",
    "                 'r*', markersize = star_size)\n",
    "    \"\"\"\n",
    "    \n",
    "    axes[0].plot(pr['favor']['recall']['p'], pr['favor']['precision']['p'],\n",
    "                 '-g^', label = 'Performer', markersize = mark_size)\n",
    "    axes[0].plot(pr['favor']['recall']['p'][middle_point], pr['favor']['precision']['p'][middle_point],\n",
    "                 'r*', markersize = star_size)\n",
    "    \n",
    "    axes[0].plot(pr['cnn']['recall']['p'], pr['cnn']['precision']['p'],\n",
    "                 '-y^', label = 'CNN', markersize = mark_size)\n",
    "    axes[0].plot(pr['cnn']['recall']['p'][middle_point], pr['cnn']['precision']['p'][middle_point],\n",
    "                 'r*', markersize = star_size)\n",
    "    \n",
    "    axes[0].plot(pr['gpd']['recall']['p'], pr['gpd']['precision']['p'],\n",
    "                 '-b^', label = 'GPD', markersize = mark_size)\n",
    "    axes[0].plot(pr['gpd']['recall']['p'][middle_point], pr['gpd']['precision']['p'][middle_point],\n",
    "                 'r*', markersize = star_size)\n",
    "    \n",
    "    # S\n",
    "    \"\"\"\n",
    "    axes[1].plot(pr['st']['recall']['s'], pr['st']['precision']['s'],\n",
    "                 '-b^', label = 'Transformer', markersize = mark_size)\n",
    "    axes[1].plot(pr['st']['recall']['s'][middle_point], pr['st']['precision']['s'][middle_point],\n",
    "                 'r*', markersize = star_size)\n",
    "    \"\"\"\n",
    "    \n",
    "    axes[1].plot(pr['favor']['recall']['s'], pr['favor']['precision']['s'],\n",
    "                 '-g^', label = 'Performer', markersize = mark_size)\n",
    "    axes[1].plot(pr['favor']['recall']['s'][middle_point], pr['favor']['precision']['s'][middle_point],\n",
    "                 'r*', markersize = star_size)\n",
    "    \n",
    "    axes[1].plot(pr['cnn']['recall']['s'], pr['cnn']['precision']['s'],\n",
    "                 '-y^', label = 'CNN', markersize = mark_size)\n",
    "    axes[1].plot(pr['cnn']['recall']['s'][middle_point], pr['cnn']['precision']['s'][middle_point],\n",
    "                 'r*', markersize = star_size)\n",
    "    \n",
    "    axes[1].plot(pr['gpd']['recall']['s'], pr['gpd']['precision']['s'],\n",
    "                 '-b^', label = 'GPD', markersize = mark_size)\n",
    "    axes[1].plot(pr['gpd']['recall']['s'][middle_point], pr['gpd']['precision']['s'][middle_point],\n",
    "                 'r*', markersize = star_size)\n",
    "    \n",
    "    \"\"\"\n",
    "    # N\n",
    "    axes[2].plot(pr['st']['recall']['n'], pr['st']['precision']['n'],\n",
    "                 '-b^', label = 'Transformer', markersize = mark_size)\n",
    "    axes[2].plot(pr['st']['recall']['n'][middle_point], pr['st']['precision']['n'][middle_point],\n",
    "                 'r*', markersize = star_size)\n",
    "    \n",
    "    axes[2].plot(pr['favor']['recall']['n'], pr['favor']['precision']['n'],\n",
    "                 '-g^', label = 'Performer', markersize = mark_size)\n",
    "    axes[2].plot(pr['favor']['recall']['n'][middle_point], pr['favor']['precision']['n'][middle_point],\n",
    "                 'r*', markersize = star_size)\n",
    "    \n",
    "    axes[2].plot(pr['cnn']['recall']['n'], pr['cnn']['precision']['n'],\n",
    "                 '-y^', label = 'CNN', markersize = mark_size)\n",
    "    axes[2].plot(pr['cnn']['recall']['n'][middle_point], pr['cnn']['precision']['n'][middle_point],\n",
    "                 'r*', markersize = star_size)\n",
    "    \"\"\"\n",
    "    \n",
    "    ticks = np.array([0.825, 0.85, 0.875, 0.90, 0.925, 0.95, 0.975])\n",
    "    \n",
    "    axes[0].xaxis.set_major_formatter(FormatStrFormatter('%.2f'))\n",
    "    axes[1].xaxis.set_major_formatter(FormatStrFormatter('%.2f'))\n",
    "    # axes[2].xaxis.set_major_formatter(FormatStrFormatter('%.2f'))\n",
    "    \n",
    "    # axes[0].set_xticks(ticks)\n",
    "    # axes[1].set_xticks(ticks)\n",
    "    # axes[2].set_xticks(ticks)\n",
    "    \n",
    "    # axes[0].set_xlim(0.55, 1.)\n",
    "    # axes[1].set_xlim(0.55, 1.)\n",
    "    # axes[2].set_xlim(0.725, 1.)\n",
    "    \n",
    "    axes[0].legend()\n",
    "    \n",
    "    axes[0].set_title('P')\n",
    "    axes[1].set_title('S')\n",
    "    # axes[2].set_title('N')\n",
    "    \n",
    "    fig.tight_layout()"
   ]
  },
  {
   "cell_type": "code",
   "execution_count": 36,
   "id": "f0c2bfe2",
   "metadata": {},
   "outputs": [
    {
     "data": {
      "image/png": "[encoded data removed]",
      "text/plain": [
       "<Figure size 1120x480 with 2 Axes>"
      ]
     },
     "metadata": {
      "needs_background": "light"
     },
     "output_type": "display_data"
    }
   ],
   "source": [
    "plot_prc_2(precision_recall)"
   ]
  },
  {
   "cell_type": "code",
   "execution_count": null,
   "id": "196245bc",
   "metadata": {},
   "outputs": [],
   "source": []
  }
 ],
 "metadata": {
  "kernelspec": {
   "display_name": "Python 3",
   "language": "python",
   "name": "python3"
  },
  "language_info": {
   "codemirror_mode": {
    "name": "ipython",
    "version": 3
   },
   "file_extension": ".py",
   "mimetype": "text/x-python",
   "name": "python",
   "nbconvert_exporter": "python",
   "pygments_lexer": "ipython3",
   "version": "3.8.8"
  }
 },
 "nbformat": 4,
 "nbformat_minor": 5
}

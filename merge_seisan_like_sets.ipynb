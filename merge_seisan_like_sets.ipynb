{
 "cells": [
  {
   "cell_type": "markdown",
   "id": "ef7a4700",
   "metadata": {},
   "source": [
    "# merge_seisan_like_sets\n",
    "\n",
    "This script takes two seisan-like datasets and merges them into a new set.\n",
    "\n",
    "This script works only with single level deep sets. Merging performed by similar keys or keys lists specified in `# Init parameters` section."
   ]
  },
  {
   "cell_type": "code",
   "execution_count": 1,
   "id": "4e1fd450",
   "metadata": {},
   "outputs": [],
   "source": [
    "import h5py as h5\n",
    "import numpy as np\n",
    "\n",
    "from utils.h5_tools import write_batch"
   ]
  },
  {
   "cell_type": "code",
   "execution_count": 2,
   "id": "140fc3ba",
   "metadata": {},
   "outputs": [],
   "source": [
    "# Init parameters\n",
    "path_1 = 'data/2014_2019_global_norm.h5'\n",
    "path_2 = 'data/2020_2021_global_norm.h5'\n",
    "\n",
    "save_path = 'data/2014_2021_global_norm.h5'\n",
    "\n",
    "# List of keys to merge together\n",
    "keys_1 = None # example: ['X', 'Y', 'ID']\n",
    "keys_2 = None # example: ['X', 'Y', 'Z']\n",
    "\n",
    "batch_size = 20000"
   ]
  },
  {
   "cell_type": "code",
   "execution_count": 3,
   "id": "36ee0bc4",
   "metadata": {},
   "outputs": [],
   "source": [
    "# Read data\n",
    "f1 = h5.File(path_1, 'r')\n",
    "f2 = h5.File(path_2, 'r')\n",
    "\n",
    "# Read sets\n",
    "sets_1 = []\n",
    "sets_2 = []\n",
    "sets_keys = keys_1\n",
    "\n",
    "if keys_1 and keys_2:\n",
    "    \n",
    "    for k in keys_1:\n",
    "        sets_1.append(f1[k])\n",
    "        \n",
    "    for k in keys_2:\n",
    "        sets_2.append(f2[k])\n",
    "        \n",
    "else:\n",
    "    \n",
    "    sets_keys = []\n",
    "    for k1 in f1.keys():\n",
    "        if k1 in f2.keys():\n",
    "            \n",
    "            sets_1.append(f1[k1])\n",
    "            sets_2.append(f2[k1])\n",
    "            \n",
    "            sets_keys.append(k1)"
   ]
  },
  {
   "cell_type": "markdown",
   "id": "ec21e15e",
   "metadata": {},
   "source": [
    "## Sets info:"
   ]
  },
  {
   "cell_type": "code",
   "execution_count": 4,
   "id": "40663e5e",
   "metadata": {},
   "outputs": [
    {
     "data": {
      "text/plain": [
       "([<HDF5 dataset \"ID\": shape (7446,), type \"|O\">,\n",
       "  <HDF5 dataset \"X\": shape (7446, 400, 3), type \"<f8\">,\n",
       "  <HDF5 dataset \"Y\": shape (7446,), type \"<f8\">],\n",
       " [<HDF5 dataset \"ID\": shape (1331,), type \"|O\">,\n",
       "  <HDF5 dataset \"X\": shape (1331, 400, 3), type \"<f8\">,\n",
       "  <HDF5 dataset \"Y\": shape (1331,), type \"<f8\">])"
      ]
     },
     "execution_count": 4,
     "metadata": {},
     "output_type": "execute_result"
    }
   ],
   "source": [
    "sets_1, sets_2"
   ]
  },
  {
   "cell_type": "markdown",
   "id": "1b1ac1c3",
   "metadata": {},
   "source": [
    "## Merge:"
   ]
  },
  {
   "cell_type": "code",
   "execution_count": 5,
   "id": "466ec718",
   "metadata": {},
   "outputs": [],
   "source": [
    "def transfer_set_list(sets, sets_keys, batch_size, save_path):\n",
    "    \n",
    "    string_type = np.dtype(object) # data type of string NumPy arrays\n",
    "    \n",
    "    for i, k in enumerate(sets_keys):\n",
    "    \n",
    "        s = sets[i]\n",
    "        s_length = s.shape[0]\n",
    "\n",
    "        batch_count = s_length // batch_size\n",
    "        last_batch = s_length % batch_size\n",
    "\n",
    "        if last_batch:\n",
    "            batch_count += 1\n",
    "\n",
    "        for b in range(batch_count):\n",
    "\n",
    "            c_batch_size = batch_size\n",
    "            if b == batch_count - 1:\n",
    "                c_batch_size = last_batch\n",
    "\n",
    "            start_pos = batch_size * b\n",
    "\n",
    "            c_data = s[start_pos : start_pos + c_batch_size]\n",
    "\n",
    "            if s.dtype == string_type:\n",
    "                write_batch(save_path, k, c_data, string = True)\n",
    "            else:\n",
    "                write_batch(save_path, k, c_data)"
   ]
  },
  {
   "cell_type": "code",
   "execution_count": 6,
   "id": "072a03c5",
   "metadata": {},
   "outputs": [],
   "source": [
    "transfer_set_list(sets_1, sets_keys, batch_size, save_path)\n",
    "transfer_set_list(sets_2, sets_keys, batch_size, save_path)"
   ]
  },
  {
   "cell_type": "code",
   "execution_count": 7,
   "id": "de1b2a1b",
   "metadata": {},
   "outputs": [],
   "source": [
    "f1.close()\n",
    "f2.close()"
   ]
  },
  {
   "cell_type": "code",
   "execution_count": null,
   "id": "fbf32750",
   "metadata": {},
   "outputs": [],
   "source": []
  }
 ],
 "metadata": {
  "kernelspec": {
   "display_name": "Python 3",
   "language": "python",
   "name": "python3"
  },
  "language_info": {
   "codemirror_mode": {
    "name": "ipython",
    "version": 3
   },
   "file_extension": ".py",
   "mimetype": "text/x-python",
   "name": "python",
   "nbconvert_exporter": "python",
   "pygments_lexer": "ipython3",
   "version": "3.8.8"
  }
 },
 "nbformat": 4,
 "nbformat_minor": 5
}
